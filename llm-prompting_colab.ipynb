{
 "cells": [
  {
   "attachments": {},
   "cell_type": "markdown",
   "metadata": {},
   "source": [
    "# Stance Detection on Tweets using NLP Methods\n",
    "\n",
    "Note: This tutorial consists of two separate python notebooks. This is notebook is the second one. The first notebook can be found [here](TODO). I strongly recommend to read the first notebook first.\n",
    "\n",
    "1. First notebook (this one): Fine-tuning BERT models: include standard BERT and domain-specific BERT\n",
    "- TODO: add link\n",
    "\n",
    "2. Second notebook: Promoting large language models (LLMs): include ChatGPT, FLAN-T5 and different prompt types (zero-shot, few-shot, chain-of-thought)\n",
    "- TODO: add link\n"
   ]
  },
  {
   "attachments": {},
   "cell_type": "markdown",
   "metadata": {},
   "source": [
    "## Introduction\n",
    "\n",
    "**Objective of the tutorial**: This tutorial will guide you through the process of stance detection on tweets using two main approaches: fine-tuning a BERT model and using large language models (LLMs).\n",
    "\n",
    "**Prerequisites**: \n",
    "\n",
    "- If you want to run the tutorial without editting the codes but want to understand the content\n",
    "  - Basic Python skills: functions, classes, pandas, etc.\n",
    "  - Basic ML knowledge: train-validation-test split, F1 score, forward pass, backpropagation etc.\n",
    "\n",
    "- Familiarity with NLP concepts is a plus, especially with transformers. No worries if you don't know them. I will breifly explain them in the tutorial. There are some fantistic in-depth tutorials, which I provide links throughout the text, and "
   ]
  },
  {
   "attachments": {},
   "cell_type": "markdown",
   "metadata": {},
   "source": [
    "****"
   ]
  },
  {
   "attachments": {},
   "cell_type": "markdown",
   "metadata": {},
   "source": [
    "## Two Stance Detection Paradigms"
   ]
  },
  {
   "attachments": {},
   "cell_type": "markdown",
   "metadata": {},
   "source": [
    "![two_paradigm](images/stance_detection_two_paradigm.png)"
   ]
  },
  {
   "attachments": {},
   "cell_type": "markdown",
   "metadata": {},
   "source": [
    "****"
   ]
  },
  {
   "attachments": {},
   "cell_type": "markdown",
   "metadata": {},
   "source": [
    "## Paradigm 2: Using Large Language Models (LLM) for Stance Detection\n",
    "\n",
    "Large Language Models (LLMs) are a type of advanced natural language processing model that has gained significant attention in recent years. These models are designed to understand and generate human-like text by learning from vast amounts of data. In the context of stance detection, LLMs can offer powerful and flexible tools to analyze and classify text based on the stance or attitude expressed towards a particular topic."
   ]
  },
  {
   "attachments": {},
   "cell_type": "markdown",
   "metadata": {},
   "source": [
    "### Pre-training: Learning from Massive Amounts of Text\n",
    "\n",
    "Like BERT model, LLMs also rely on pre-training to learn from massive amounts of text. During pre-training, LLMs are exposed to a large corpus of text, which allows them to learn the structure and style of human language. By learning from a diverse range of text sources, LLMs can build a rich understanding of language, including grammar, vocabulary, and context. This extensive knowledge can be particularly useful for detecting stances in text.\n",
    "\n",
    "\n",
    "During training, LLMs optimize their parameters to minimize a loss function, which is a measure of the difference between the model's predictions and the actual target outputs. In the case of language models, the loss function is typically based on the likelihood of the correct next word (or token) given the context. By minimizing this loss function, the model learns to generate text that closely resembles the structure and style of the training data.\n",
    "\n",
    "[TODO: add a diagram to show the loss function]"
   ]
  },
  {
   "attachments": {},
   "cell_type": "markdown",
   "metadata": {},
   "source": [
    "### Contrast with BERT\n",
    " \n",
    "\n",
    "#### Model Size and Traing Corpus Size\n",
    "\n",
    "While BERT is considered a Large Language Model, it has a much smaller number of parameters in the model, and has a smaller training data during the pre-training phase, compared to some of the more recent LLMs. Because of this constraint, BERT typically requires fine-tuning on a specific task, using a labeled dataset, to perform optimally.\n",
    "\n",
    "Newer LLMs, like GPT-3 or Flan-T5, have been trained on even larger datasets and have demonstrated remarkable capabilities, including the ability to perform tasks with little or no fine-tuning. This is due to their extensive training, which allows them to generate more accurate and coherent responses in a variety of situations, including stance detection.\n"
   ]
  },
  {
   "attachments": {},
   "cell_type": "markdown",
   "metadata": {},
   "source": [
    "[TODO: add a table to illustrate the difference between BERT and LLMs]"
   ]
  },
  {
   "attachments": {},
   "cell_type": "markdown",
   "metadata": {},
   "source": [
    "#### The role of fine-tuning\n",
    "\n",
    "While BERT is designed to be fine-tuned on tasks of interest like stance detection using labeled data, some of these more recent LLMs can perform stance detection without further fine-tuning with labeled data. \n",
    "\n",
    "Note that LLMs still undergo fine-tuning (see below for details), but they are not fine-tuned on a specific task like stance detection. Instead, they are fine-tuned on a general language modeling task, which allows them to learn the structure and style of human language. This general pre-training allows them to perform well on a variety of tasks, including stance detection, without further fine-tuning."
   ]
  },
  {
   "cell_type": "markdown",
   "metadata": {},
   "source": [
    "\n",
    "#### The Potential of Prompting\n",
    "\n",
    "While BERT is designed to be fine-tuned on specific tasks like stance detection using labeled data, some of these more recent LLMs can perform stance detection without fine-tuning, but with prompting techniques (i.e., the way you \"ask\" these models questions). These techniques involve providing the model with context or examples to guide its response, rather than relying on fine-tuning with labeled data.\n",
    "\n",
    "For example, with a zero-shot approach, an LLM can perform stance detection on tweets without being fine-tuned on a specific dataset. The model can understand the task and generate an appropriate response based on its extensive knowledge learned during pretraining."
   ]
  },
  {
   "attachments": {},
   "cell_type": "markdown",
   "metadata": {},
   "source": [
    "[TODO: add a diagram to illustrate different prompting techniques]"
   ]
  },
  {
   "attachments": {},
   "cell_type": "markdown",
   "metadata": {},
   "source": [
    "****"
   ]
  },
  {
   "attachments": {},
   "cell_type": "markdown",
   "metadata": {},
   "source": [
    "## Two state-of-the-art LLMs: ChatGPT-3.5 and FLAN-T5\n",
    "\n",
    "Large Language Models (LLMs) have made significant advancements in the field of natural language processing in recent years. These models excel at understanding and generating human-like text by learning from vast amounts of data. Two notable LLMs that are frequently used for tasks such as stance detection are FLAN-T5 and OpenAI's ChatGPT-3.5."
   ]
  },
  {
   "attachments": {},
   "cell_type": "markdown",
   "metadata": {},
   "source": [
    "\n",
    "### OpenAI's ChatGPT-3.5\n",
    "\n",
    "OpenAI's ChatGPT-3.5 is a state-of-the-art language model, known for its impressive capabilities in understanding context and generating coherent text. Like BERT, it is also based on the Transformer architecture, but it has a much larger number of parameters and has been trained on a much larger dataset.\n",
    "\n",
    "Due to the massive amount of training data, it perform well on various NLP tasks with little or no fine-tuning. ChatGPT-3.5's adaptability and powerful language processing make it a strong candidate for stance detection tasks.\n"
   ]
  },
  {
   "attachments": {},
   "cell_type": "markdown",
   "metadata": {},
   "source": [
    "#### How ChatGPT-3.5 is trained?\n",
    "\n",
    "Its training process consists of two main steps: pre-training and fine-tuning.\n"
   ]
  },
  {
   "attachments": {},
   "cell_type": "markdown",
   "metadata": {},
   "source": [
    "\n",
    "##### Pre-training in ChatGPT-3.5\n",
    "\n",
    "During the pre-training phase, ChatGPT-3.5 learns from vast amounts of text data gathered from various sources, such as websites, books, and articles. It is not explicitly trained on specific tasks at this stage; rather, it learns the structure, grammar, and general knowledge embedded in the text. The model's objective during pre-training is to predict the **next word** in a sentence, given the context of the words that come before it. This process, known as \"language modeling,\" helps the model develop a deep understanding of language patterns and relationships."
   ]
  },
  {
   "cell_type": "markdown",
   "metadata": {},
   "source": [
    "https://jalammar.github.io/how-gpt3-works-visualizations-animations/"
   ]
  },
  {
   "attachments": {},
   "cell_type": "markdown",
   "metadata": {},
   "source": [
    "<img src=\"images/gpt3_training.gif\">"
   ]
  },
  {
   "attachments": {},
   "cell_type": "markdown",
   "metadata": {},
   "source": [
    "##### Fine-tuning in ChatGPT-3.5\n",
    "\n",
    "In the fine-tuning process of ChatGPT-3.5, **reinforcement learning from human feedback** (RLHF) plays a crucial role. This approach involves creating an initial dataset with human AI trainers (AI trainers providing conversations or responses to various prompts), generating comparison data by ranking multiple model-generated responses, building a reward model based on these rankings, and optimizing the ChatGPT-3.5 model using the reward model. Iteratively incorporating human feedback helps improve the model's performance, making it produce responses that are more similar to human responses.\n"
   ]
  },
  {
   "attachments": {},
   "cell_type": "markdown",
   "metadata": {},
   "source": [
    "![chatgpt3-5](images/chatgpt_diagram.svg)"
   ]
  },
  {
   "attachments": {},
   "cell_type": "markdown",
   "metadata": {},
   "source": [
    "\n",
    "### Open-source model FLAN-T5\n",
    "\n",
    "The flan-T5 model is based on the T5 (Text-to-Text Transfer Transformer) architecture developed by Google Research. Like BERT and ChatGPT-3.5, flan-T5 is also built on the Transformer architecture. It is designed to handle a wide range of NLP tasks by converting them into a text-to-text format. The model's versatility and strong performance make it a popular choice for many short question-answering tasks, including stance detection."
   ]
  },
  {
   "attachments": {},
   "cell_type": "markdown",
   "metadata": {},
   "source": [
    "TODO: add diagram to illustrate the T5 architecture"
   ]
  },
  {
   "attachments": {},
   "cell_type": "markdown",
   "metadata": {},
   "source": [
    "#### How is flan-T5 trained?"
   ]
  },
  {
   "attachments": {},
   "cell_type": "markdown",
   "metadata": {},
   "source": [
    "\n",
    "##### Pre-training in FLAN-T5\n",
    "\n",
    "During the pre-training phase, FLAN-T5 undergoes a similar process to ChatGPT-3.5. Like ChatGPT3.5, it also learns from a large corpus of text data, which helps it develop a deep understanding of language patterns and relationships. The model's objective during pre-training is to predict the **next word** in a sentence, given the context of the words that come before it. This process, known as \"language modeling,\" helps the model develop a deep understanding of language patterns and relationships."
   ]
  },
  {
   "attachments": {},
   "cell_type": "markdown",
   "metadata": {},
   "source": [
    "##### Fine-tuning in flan-T5\n",
    "\n",
    "For flan-T5, the fine-tuning process involves training the model on task-specific datasets. Unlike ChatGPT-3.5, which is focused on improving general conversational abilities, flan-T5 is designed to handle a wide range of NLP tasks by converting them into a text-to-text format. This means that flan-T5 is explicitly fine-tuned for various tasks like sentiment analysis, question answering, summarization, translation, and more.\n",
    "\n",
    "During fine-tuning, flan-T5 learns to generate appropriate output text corresponding to the input text and the specific task it is being fine-tuned for. For example, if flan-T5 is being fine-tuned for translation, it might receive an input text in English and generate the corresponding translated text in another language, like French or German.\n",
    "\n",
    "Some of the tasks that flan-T5 has been trained on include:\n",
    "\n",
    "- Sentiment Analysis: Determining the sentiment or emotion expressed in a given text, such as identifying whether a movie review is positive, negative, or neutral.\n",
    "\n",
    "- Named Entity Recognition (NER): Identifying and classifying entities such as names of people, organizations, locations, and dates within a text.\n",
    "\n",
    "- Translation: Translating text from one language to another, for example, converting English text to French or German."
   ]
  },
  {
   "attachments": {},
   "cell_type": "markdown",
   "metadata": {},
   "source": [
    "![flan-t5](images/flan_t5_xxl.png)"
   ]
  },
  {
   "attachments": {},
   "cell_type": "markdown",
   "metadata": {},
   "source": [
    "### Critical Distinctions between ChatGPT-3.5 and flan-T5"
   ]
  },
  {
   "attachments": {},
   "cell_type": "markdown",
   "metadata": {},
   "source": [
    "#### Propietary vs. Open-source\n",
    "\n",
    "ChatGPT-3.5 is a proprietary model developed by OpenAI, and using it comes with costs, typically via API access. The implementation details and source code are not openly available, which limits users' ability to modify or understand the underlying workings of the model. On the other hand, flan-T5 is an open-source model, which means it is free to use, and the source code is publicly available for anyone to explore, use, and modify as needed. This distinction has implications for accessibility, transparency, and adaptability of the models for various tasks and research purposes.\n",
    "\n",
    "#### Training Objectives \n",
    "\n",
    "ChatGPT-3.5 focuses on improving general conversational abilities and controllability, whereas flan-T5 is designed to handle a wide-range of short question-answering NLP tasks. Therefore, flan-T5 may not be as effective as ChatGPT-3.5 for tasks that requires a longer response, such as writing an essay.\n",
    "\n",
    "#### Fine-tuning Data\n",
    "\n",
    "ChatGPT-3.5 is fine-tuned on a narrower dataset with demonstrations and comparisons with human AI trainers, while flan-T5 is fine-tuned on task-specific datasets."
   ]
  },
  {
   "attachments": {},
   "cell_type": "markdown",
   "metadata": {},
   "source": [
    "****"
   ]
  },
  {
   "attachments": {},
   "cell_type": "markdown",
   "metadata": {},
   "source": [
    "\n",
    "## Prompting Techniques for LLMs\n",
    "\n",
    "To effectively utilize LLMs like flan-T5 and ChatGPT-3.5 for stance detection, we can employ various prompting techniques that guide the model's response without the need for fine-tuning."
   ]
  },
  {
   "attachments": {},
   "cell_type": "markdown",
   "metadata": {},
   "source": [
    "\n",
    "### Zero-shot prompting\n",
    "\n",
    "In the zero-shot prompting technique, the LLM is provided with a task description and a sample input without any specific examples. The model uses its pre-trained knowledge to understand the task and generate an appropriate response.\n",
    "\n",
    "[TODO: add examples]"
   ]
  },
  {
   "attachments": {},
   "cell_type": "markdown",
   "metadata": {},
   "source": [
    "\n",
    "### Few-shot prompting\n",
    "\n",
    "The few-shot prompting technique involves providing the LLM with a small number of examples to guide its response. This allows the model to learn from the provided examples and adapt its output accordingly.\n",
    "\n",
    "[TODO: add examples]"
   ]
  },
  {
   "attachments": {},
   "cell_type": "markdown",
   "metadata": {},
   "source": [
    "\n",
    "### Chain-of-thoughts method\n",
    "\n",
    "The chain-of-thoughts method involves breaking down a complex task into a series of simpler sub-tasks. The LLM generates intermediate outputs for each sub-task and uses these outputs as context to solve the overall problem."
   ]
  },
  {
   "cell_type": "markdown",
   "metadata": {},
   "source": [
    "[TODO: add examples]"
   ]
  },
  {
   "attachments": {},
   "cell_type": "markdown",
   "metadata": {},
   "source": [
    "****"
   ]
  },
  {
   "attachments": {},
   "cell_type": "markdown",
   "metadata": {},
   "source": [
    "\n",
    "## Programming Exercise: Implementing Stance Detection with flan-T5 and ChatGPT-3.5\n",
    "\n",
    "Now, let's implement stance detection using FLAN-T5 and GPT 3.5.\n"
   ]
  },
  {
   "attachments": {},
   "cell_type": "markdown",
   "metadata": {},
   "source": [
    "# Preprocess Data"
   ]
  },
  {
   "cell_type": "code",
   "execution_count": 1,
   "metadata": {},
   "outputs": [
    {
     "name": "stdout",
     "output_type": "stream",
     "text": [
      "/home/sean/prelim_stance_detection/scripts\n"
     ]
    }
   ],
   "source": [
    "ON_COLAB = False\n",
    "if ON_COLAB:\n",
    "  !git clone https://github.com/yunshiuan/prelim_stance_detection.git\n",
    "  !python -m pip install pandas datasets openai accelerate transformers transformers[sentencepiece] torch==1.12.1+cu113 -f https://download.pytorch.org/whl/torch_stable.html emoji -q\n",
    "  %cd /content/prelim_stance_detection/scripts\n",
    "else:\n",
    "  %cd scripts"
   ]
  },
  {
   "cell_type": "code",
   "execution_count": 2,
   "metadata": {},
   "outputs": [
    {
     "name": "stderr",
     "output_type": "stream",
     "text": [
      "/home/sean/miniconda3/envs/prelim/lib/python3.10/site-packages/tqdm/auto.py:21: TqdmWarning: IProgress not found. Please update jupyter and ipywidgets. See https://ipywidgets.readthedocs.io/en/stable/user_install.html\n",
      "  from .autonotebook import tqdm as notebook_tqdm\n"
     ]
    }
   ],
   "source": [
    "%load_ext autoreload\n",
    "%autoreload 2\n",
    "import pandas as pd\n",
    "from os.path import join\n",
    "\n",
    "from data_processor import SemEvalDataProcessor\n",
    "from utils import convert_time_unit_into_name, get_parameters_for_dataset, glob_re, list_full_paths, creat_dir_for_a_file_if_not_exists, check_if_item_exist_in_nested_list, get_dir_of_a_file,func_compute_metrics_sem_eval,partition_and_resample_df, process_dataframe, tidy_name\n"
   ]
  },
  {
   "cell_type": "code",
   "execution_count": 3,
   "metadata": {},
   "outputs": [],
   "source": [
    "# set up \n",
    "SEED = 42\n",
    "TOPIC_OF_INTEREST = \"Abortion\"\n",
    "DATASET = \"SEM_EVAL\"\n",
    "par = get_parameters_for_dataset(DATASET)\n",
    "\n",
    "PATH_OUTPUT_ROOT = join(par.PATH_RESULT_SEM_EVAL, \"llm\")"
   ]
  },
  {
   "cell_type": "code",
   "execution_count": 4,
   "metadata": {},
   "outputs": [],
   "source": [
    "\n",
    "# preprocess the data\n",
    "sem_eval_data = SemEvalDataProcessor()\n",
    "sem_eval_data.preprocess()\n",
    "\n",
    "df_processed = sem_eval_data._read_preprocessed_data(topic=TOPIC_OF_INTEREST).reset_index(drop=True)\n",
    "# save the partitions (train, dev, test) for later use\n",
    "df_partitions = sem_eval_data.partition_processed_data(seed=SEED,verbose=False)"
   ]
  },
  {
   "attachments": {},
   "cell_type": "markdown",
   "metadata": {},
   "source": [
    "# Create the Prompts"
   ]
  },
  {
   "cell_type": "code",
   "execution_count": 5,
   "metadata": {},
   "outputs": [
    {
     "name": "stdout",
     "output_type": "stream",
     "text": [
      "The autoreload extension is already loaded. To reload it, use:\n",
      "  %reload_ext autoreload\n"
     ]
    }
   ],
   "source": [
    "%load_ext autoreload\n",
    "%autoreload 2\n",
    "from gpt_data_processor import SemEvalGPTDataProcessor"
   ]
  },
  {
   "attachments": {},
   "cell_type": "markdown",
   "metadata": {},
   "source": [
    "## Zero-shot prompt"
   ]
  },
  {
   "cell_type": "code",
   "execution_count": 6,
   "metadata": {},
   "outputs": [],
   "source": [
    "# zero-shot (k = 0)\n",
    "VERSION_PROMPT = \"zero_shot\""
   ]
  },
  {
   "cell_type": "code",
   "execution_count": 7,
   "metadata": {},
   "outputs": [],
   "source": [
    "gpt_data_processor = SemEvalGPTDataProcessor(version_prompt = VERSION_PROMPT, topic=TOPIC_OF_INTEREST)\n",
    "# the prompt, which is the input to the LLMs\n",
    "df_input_text = gpt_data_processor.embed_prompt(file_output=None, write_csv=False,\n",
    "                                                return_df=True)"
   ]
  },
  {
   "cell_type": "code",
   "execution_count": 8,
   "metadata": {},
   "outputs": [
    {
     "data": {
      "text/html": [
       "<div>\n",
       "<style scoped>\n",
       "    .dataframe tbody tr th:only-of-type {\n",
       "        vertical-align: middle;\n",
       "    }\n",
       "\n",
       "    .dataframe tbody tr th {\n",
       "        vertical-align: top;\n",
       "    }\n",
       "\n",
       "    .dataframe thead th {\n",
       "        text-align: right;\n",
       "    }\n",
       "</style>\n",
       "<table border=\"1\" class=\"dataframe\">\n",
       "  <thead>\n",
       "    <tr style=\"text-align: right;\">\n",
       "      <th></th>\n",
       "      <th>ID</th>\n",
       "      <th>tweet</th>\n",
       "      <th>topic</th>\n",
       "      <th>label</th>\n",
       "      <th>partition</th>\n",
       "      <th>tweet_embedded</th>\n",
       "    </tr>\n",
       "  </thead>\n",
       "  <tbody>\n",
       "    <tr>\n",
       "      <th>0</th>\n",
       "      <td>2312</td>\n",
       "      <td>i really don't understand how some people are ...</td>\n",
       "      <td>Abortion</td>\n",
       "      <td>AGAINST</td>\n",
       "      <td>train</td>\n",
       "      <td>What is the stance of the tweet below with res...</td>\n",
       "    </tr>\n",
       "    <tr>\n",
       "      <th>1</th>\n",
       "      <td>2313</td>\n",
       "      <td>let's agree that it's not ok to kill a 7lbs ba...</td>\n",
       "      <td>Abortion</td>\n",
       "      <td>AGAINST</td>\n",
       "      <td>train</td>\n",
       "      <td>What is the stance of the tweet below with res...</td>\n",
       "    </tr>\n",
       "    <tr>\n",
       "      <th>2</th>\n",
       "      <td>2314</td>\n",
       "      <td>@USERNAME i would like to see poll: how many a...</td>\n",
       "      <td>Abortion</td>\n",
       "      <td>AGAINST</td>\n",
       "      <td>train</td>\n",
       "      <td>What is the stance of the tweet below with res...</td>\n",
       "    </tr>\n",
       "    <tr>\n",
       "      <th>3</th>\n",
       "      <td>2315</td>\n",
       "      <td>democrats are always against 'personhood' or w...</td>\n",
       "      <td>Abortion</td>\n",
       "      <td>AGAINST</td>\n",
       "      <td>train</td>\n",
       "      <td>What is the stance of the tweet below with res...</td>\n",
       "    </tr>\n",
       "    <tr>\n",
       "      <th>4</th>\n",
       "      <td>2316</td>\n",
       "      <td>@USERNAME 'if you don't draw the line where i'...</td>\n",
       "      <td>Abortion</td>\n",
       "      <td>NONE</td>\n",
       "      <td>train</td>\n",
       "      <td>What is the stance of the tweet below with res...</td>\n",
       "    </tr>\n",
       "  </tbody>\n",
       "</table>\n",
       "</div>"
      ],
      "text/plain": [
       "     ID                                              tweet     topic    label  \\\n",
       "0  2312  i really don't understand how some people are ...  Abortion  AGAINST   \n",
       "1  2313  let's agree that it's not ok to kill a 7lbs ba...  Abortion  AGAINST   \n",
       "2  2314  @USERNAME i would like to see poll: how many a...  Abortion  AGAINST   \n",
       "3  2315  democrats are always against 'personhood' or w...  Abortion  AGAINST   \n",
       "4  2316  @USERNAME 'if you don't draw the line where i'...  Abortion     NONE   \n",
       "\n",
       "  partition                                     tweet_embedded  \n",
       "0     train  What is the stance of the tweet below with res...  \n",
       "1     train  What is the stance of the tweet below with res...  \n",
       "2     train  What is the stance of the tweet below with res...  \n",
       "3     train  What is the stance of the tweet below with res...  \n",
       "4     train  What is the stance of the tweet below with res...  "
      ]
     },
     "execution_count": 8,
     "metadata": {},
     "output_type": "execute_result"
    }
   ],
   "source": [
    "df_input_text.head()"
   ]
  },
  {
   "cell_type": "code",
   "execution_count": 9,
   "metadata": {},
   "outputs": [
    {
     "name": "stdout",
     "output_type": "stream",
     "text": [
      "tweet:\n",
      "i really don't understand how some people are pro-choice. a life is a life no matter if it's 2 weeks old or 20 years old.\n",
      "\n",
      "label:\n",
      "AGAINST\n",
      "\n"
     ]
    }
   ],
   "source": [
    "print(\"tweet:\\n{}\\n\".format(df_input_text[\"tweet\"][0]))\n",
    "print(\"label:\\n{}\\n\".format(df_input_text[\"label\"][0]))"
   ]
  },
  {
   "cell_type": "code",
   "execution_count": 10,
   "metadata": {},
   "outputs": [
    {
     "name": "stdout",
     "output_type": "stream",
     "text": [
      "prompt:\n",
      "What is the stance of the tweet below with respect to 'Legalization of Abortion'?  If we can infer from the tweet that the tweeter supports 'Legalization of Abortion', please label it as 'in-favor'. If we can infer from the tweet that the tweeter is against 'Legalization of Abortion', please label is as 'against'. If we can infer from the tweet that the tweeter has a neutral stance towards 'Legalization of Abortion', please label it as 'neutral-or-unclear'. If there is no clue in the tweet to reveal the stance of the tweeter towards 'Legalization of Abortion', please also label is as 'neutral-or-unclear'. Please use exactly one word from the following 3 categories to label it: 'in-favor', 'against', 'neutral-or-unclear'. Here is the tweet. 'i really don't understand how some people are pro-choice. a life is a life no matter if it's 2 weeks old or 20 years old.' The stance of the tweet is: \n"
     ]
    }
   ],
   "source": [
    "print(\"prompt:\\n{}\".format(df_input_text[\"tweet_embedded\"][0]))"
   ]
  },
  {
   "attachments": {},
   "cell_type": "markdown",
   "metadata": {},
   "source": [
    "## Few-shot prompt"
   ]
  },
  {
   "cell_type": "code",
   "execution_count": 11,
   "metadata": {},
   "outputs": [],
   "source": [
    "gpt_data_processor = SemEvalGPTDataProcessor(version_prompt = \"few_shot\", topic=TOPIC_OF_INTEREST)\n",
    "# the prompt, which is the input to the LLMs\n",
    "df_input_text = gpt_data_processor.embed_prompt(file_output=None, write_csv=False,\n",
    "                                                return_df=True)"
   ]
  },
  {
   "cell_type": "code",
   "execution_count": 12,
   "metadata": {},
   "outputs": [
    {
     "name": "stdout",
     "output_type": "stream",
     "text": [
      "tweet:\n",
      "i really don't understand how some people are pro-choice. a life is a life no matter if it's 2 weeks old or 20 years old.\n",
      "\n",
      "label:\n",
      "AGAINST\n",
      "\n",
      "prompt:\n",
      "What is the stance of the tweet below with respect to 'Legalization of Abortion'?  If we can infer from the tweet that the tweeter supports 'Legalization of Abortion', please label it as 'in-favor'. If we can infer from the tweet that the tweeter is against 'Legalization of Abortion', please label is as 'against'. If we can infer from the tweet that the tweeter has a neutral stance towards 'Legalization of Abortion', please label it as 'neutral-or-unclear'. If there is no clue in the tweet to reveal the stance of the tweeter towards 'Legalization of Abortion', please also label is as 'neutral-or-unclear'. Please use exactly one word from the following 3 categories to label it: 'in-favor', 'against', 'neutral-or-unclear'.  Here are some examples of tweets. Make sure to classify the last tweet correctly.\n",
      "Q: Tweet: it's a free country. freedom includes freedom of choice.\n",
      "Is this tweet in-favor, against, or neutral-or-unclear?\n",
      "A: in-favor\n",
      "Q: Tweet: i really don't understand how some people are pro-choice. a life is a life no matter if it's 2 weeks old or 20 years old.\n",
      "Is this tweet in-favor, against, or neutral-or-unclear?\n",
      "A: against\n",
      "Q: Tweet: so ready for my abortion debate\n",
      "Is this tweet in-favor, against, or neutral-or-unclear?\n",
      "A: neutral-or-unclear\n",
      "Q: Tweet: 'i really don't understand how some people are pro-choice. a life is a life no matter if it's 2 weeks old or 20 years old.'\n",
      "Is this tweet in-favor, against, or neutral-or-unclear?\n",
      "A: \n"
     ]
    }
   ],
   "source": [
    "print(\"tweet:\\n{}\\n\".format(df_input_text[\"tweet\"][0]))\n",
    "print(\"label:\\n{}\\n\".format(df_input_text[\"label\"][0]))\n",
    "print(\"prompt:\\n{}\".format(df_input_text[\"tweet_embedded\"][0]))"
   ]
  },
  {
   "attachments": {},
   "cell_type": "markdown",
   "metadata": {},
   "source": [
    "## Chain-of-thought prompt (CoT)"
   ]
  },
  {
   "cell_type": "code",
   "execution_count": 13,
   "metadata": {},
   "outputs": [],
   "source": [
    "gpt_data_processor = SemEvalGPTDataProcessor(version_prompt = \"CoT\", topic=TOPIC_OF_INTEREST)\n",
    "# the prompt, which is the input to the LLMs\n",
    "df_input_text = gpt_data_processor.embed_prompt(file_output=None, write_csv=False,\n",
    "                                                return_df=True)"
   ]
  },
  {
   "cell_type": "code",
   "execution_count": 14,
   "metadata": {},
   "outputs": [
    {
     "name": "stdout",
     "output_type": "stream",
     "text": [
      "tweet:\n",
      "i really don't understand how some people are pro-choice. a life is a life no matter if it's 2 weeks old or 20 years old.\n",
      "\n",
      "label:\n",
      "AGAINST\n",
      "\n",
      "prompt:\n",
      "What is the stance of the tweet below with respect to 'Legalization of Abortion'?  If we can infer from the tweet that the tweeter supports 'Legalization of Abortion', please label it as 'in-favor'. If we can infer from the tweet that the tweeter is against 'Legalization of Abortion', please label is as 'against'. If we can infer from the tweet that the tweeter has a neutral stance towards 'Legalization of Abortion', please label it as 'neutral-or-unclear'. If there is no clue in the tweet to reveal the stance of the tweeter towards 'Legalization of Abortion', please also label is as 'neutral-or-unclear'. Here is the tweet. 'i really don't understand how some people are pro-choice. a life is a life no matter if it's 2 weeks old or 20 years old.' What is the stance of the tweet with respect to 'Legalization of Abortion'? Please make sure that at the end of your response, use exactly one word from the following 3 categories to label the stance with respect to 'Legalization of Abortion': 'in-favor', 'against', 'neutral-or-unclear’. Let's think step by step.\n"
     ]
    }
   ],
   "source": [
    "print(\"tweet:\\n{}\\n\".format(df_input_text[\"tweet\"][0]))\n",
    "print(\"label:\\n{}\\n\".format(df_input_text[\"label\"][0]))\n",
    "print(\"prompt:\\n{}\".format(df_input_text[\"tweet_embedded\"][0]))"
   ]
  },
  {
   "attachments": {},
   "cell_type": "markdown",
   "metadata": {},
   "source": [
    "# Feed the prompts to FLAN-T5 models"
   ]
  },
  {
   "cell_type": "code",
   "execution_count": 15,
   "metadata": {},
   "outputs": [
    {
     "name": "stdout",
     "output_type": "stream",
     "text": [
      "The autoreload extension is already loaded. To reload it, use:\n",
      "  %reload_ext autoreload\n"
     ]
    }
   ],
   "source": [
    "%load_ext autoreload\n",
    "%autoreload 2\n",
    "from gpt_predict_label import FlanT5LargeLabelPredictor, FlanT5XxlLabelPredictor"
   ]
  },
  {
   "attachments": {},
   "cell_type": "markdown",
   "metadata": {},
   "source": [
    "## Helpfer function"
   ]
  },
  {
   "cell_type": "code",
   "execution_count": 16,
   "metadata": {},
   "outputs": [],
   "source": [
    "def prompt_flan_t5(model_type, prompt_version):\n",
    "    # get the output paths\n",
    "    # model_type_name = tidy_name(model_type)\n",
    "    path_output = join(PATH_OUTPUT_ROOT, model_type, prompt_version)\n",
    "    file_output_predictions = join(path_output, \"predictions.csv\")\n",
    "\n",
    "    gpt_data_processor = SemEvalGPTDataProcessor(version_prompt=prompt_version, topic=TOPIC_OF_INTEREST)\n",
    "    \n",
    "    # create the prompt, which is the input to the LLMs\n",
    "    df_input_text = gpt_data_processor.embed_prompt(file_output=None, write_csv=False,\n",
    "                                                    return_df=True)\n",
    "\n",
    "    # partition the data into train, vali, test (note that we only need the vali and test set in this approach)\n",
    "    dict_df_single_domain = partition_and_resample_df(\n",
    "        df_input_text, seed=None, partition_type=\"single_domain\",\n",
    "        read_partition_from_df=True,\n",
    "        df_partitions=df_partitions)\n",
    "\n",
    "    # select the partition to be labeled\n",
    "    # - vali and test\n",
    "    df_input_text_filtered = pd.DataFrame()\n",
    "    for partition in [\"vali_raw\", \"test_raw\"]:\n",
    "        df_input_text_filtered = pd.concat([df_input_text_filtered, dict_df_single_domain[partition]])\n",
    "\n",
    "    df_input_text = df_input_text_filtered\n",
    "\n",
    "    # specify the output type (single-word or multi-word)\n",
    "    if prompt_version in [\"zero_shot\",\"few_shot\"]:\n",
    "        mode_output = \"single-word\"\n",
    "    elif prompt_version == \"CoT\":\n",
    "        mode_output = \"CoT\"\n",
    "\n",
    "    if model_type == \"flan-t5-large\":\n",
    "        llm_label_predictor = FlanT5LargeLabelPredictor(col_name_text=\"tweet_embedded\",\n",
    "                                                        col_name_label=\"stance_predicted\",\n",
    "                                                        col_name_text_id=par.TEXT_ID,\n",
    "                                                        try_use_gpu=True,\n",
    "                                                        per_device_eval_batch_size=16,\n",
    "                                                        mode_output=mode_output,\n",
    "                                                        for_generation_only=True)\n",
    "    elif model_type == \"flan-t5-xxl\":\n",
    "        llm_label_predictor = FlanT5XxlLabelPredictor(col_name_text=\"tweet_embedded\",\n",
    "                                                        col_name_label=\"stance_predicted\",\n",
    "                                                        col_name_text_id=par.TEXT_ID,\n",
    "                                                        try_use_gpu=True,\n",
    "                                                        per_device_eval_batch_size=16,\n",
    "                                                        mode_output=mode_output,\n",
    "                                                        for_generation_only=True)        \n",
    "    else:\n",
    "        raise ValueError(\"model_type not supported\")\n",
    "\n",
    "    # prompt the LLM to make predictions (write the predictions to `file_output_predictions`)\n",
    "    llm_label_predictor.predict_labels(df_input_text,\n",
    "                                       file_output_predictions,\n",
    "                                       keep_tweet_id=True, keep_text=False,\n",
    "                                       output_prob_mode=None,\n",
    "                                       list_label_space=None,\n",
    "                                       col_name_tweet_id=par.TEXT_ID)\n"
   ]
  },
  {
   "attachments": {},
   "cell_type": "markdown",
   "metadata": {},
   "source": [
    "## Prompt the FLAN-T5 models with 2 different prompts"
   ]
  },
  {
   "cell_type": "code",
   "execution_count": 17,
   "metadata": {},
   "outputs": [
    {
     "name": "stdout",
     "output_type": "stream",
     "text": [
      "model:flan-t5-large, prompt version: zero_shot\n",
      "model:flan-t5-large, prompt version: few_shot\n"
     ]
    }
   ],
   "source": [
    "model_type = \"flan-t5-large\"\n",
    "for prompt_version in [\"zero_shot\",\"few_shot\"]:\n",
    "    print(\"model:{}, prompt version: {}\".format(model_type, prompt_version))\n",
    "    # prompt_flan_t5(model_type, prompt_version)"
   ]
  },
  {
   "cell_type": "code",
   "execution_count": 18,
   "metadata": {},
   "outputs": [],
   "source": [
    "# run this only if use you a large enough GPU (>30GB)\n",
    "LARGE_GPU_AVAILABLE = False\n",
    "if LARGE_GPU_AVAILABLE:\n",
    "    model_type = \"flan-t5-xxl\"\n",
    "    for prompt_version in [\"zero_shot\",\"few_shot\"]:\n",
    "        print(\"model:{}, prompt version: {}\".format(model_type, prompt_version))\n",
    "        prompt_flan_t5(model_type, prompt_version)"
   ]
  },
  {
   "attachments": {},
   "cell_type": "markdown",
   "metadata": {},
   "source": [
    "### View the predictions"
   ]
  },
  {
   "cell_type": "code",
   "execution_count": 19,
   "metadata": {},
   "outputs": [],
   "source": [
    "path_model_output =  join(PATH_OUTPUT_ROOT, model_type, \"zero_shot\")\n",
    "file_input_predictions = join(path_model_output,\"predictions.csv\")\n",
    "df_predictions = pd.read_csv(file_input_predictions)"
   ]
  },
  {
   "cell_type": "code",
   "execution_count": 20,
   "metadata": {},
   "outputs": [
    {
     "data": {
      "text/html": [
       "<div>\n",
       "<style scoped>\n",
       "    .dataframe tbody tr th:only-of-type {\n",
       "        vertical-align: middle;\n",
       "    }\n",
       "\n",
       "    .dataframe tbody tr th {\n",
       "        vertical-align: top;\n",
       "    }\n",
       "\n",
       "    .dataframe thead th {\n",
       "        text-align: right;\n",
       "    }\n",
       "</style>\n",
       "<table border=\"1\" class=\"dataframe\">\n",
       "  <thead>\n",
       "    <tr style=\"text-align: right;\">\n",
       "      <th></th>\n",
       "      <th>stance_predicted</th>\n",
       "      <th>ID</th>\n",
       "      <th>tweet_embedded</th>\n",
       "    </tr>\n",
       "  </thead>\n",
       "  <tbody>\n",
       "    <tr>\n",
       "      <th>0</th>\n",
       "      <td>in-favor</td>\n",
       "      <td>2313</td>\n",
       "      <td>What is the stance of the tweet below with res...</td>\n",
       "    </tr>\n",
       "    <tr>\n",
       "      <th>1</th>\n",
       "      <td>in-favor</td>\n",
       "      <td>2316</td>\n",
       "      <td>What is the stance of the tweet below with res...</td>\n",
       "    </tr>\n",
       "    <tr>\n",
       "      <th>2</th>\n",
       "      <td>in-favor</td>\n",
       "      <td>2317</td>\n",
       "      <td>What is the stance of the tweet below with res...</td>\n",
       "    </tr>\n",
       "    <tr>\n",
       "      <th>3</th>\n",
       "      <td>against</td>\n",
       "      <td>2323</td>\n",
       "      <td>What is the stance of the tweet below with res...</td>\n",
       "    </tr>\n",
       "    <tr>\n",
       "      <th>4</th>\n",
       "      <td>in-favor</td>\n",
       "      <td>2331</td>\n",
       "      <td>What is the stance of the tweet below with res...</td>\n",
       "    </tr>\n",
       "  </tbody>\n",
       "</table>\n",
       "</div>"
      ],
      "text/plain": [
       "  stance_predicted    ID                                     tweet_embedded\n",
       "0         in-favor  2313  What is the stance of the tweet below with res...\n",
       "1         in-favor  2316  What is the stance of the tweet below with res...\n",
       "2         in-favor  2317  What is the stance of the tweet below with res...\n",
       "3          against  2323  What is the stance of the tweet below with res...\n",
       "4         in-favor  2331  What is the stance of the tweet below with res..."
      ]
     },
     "execution_count": 20,
     "metadata": {},
     "output_type": "execute_result"
    }
   ],
   "source": [
    "df_predictions.head()"
   ]
  },
  {
   "attachments": {},
   "cell_type": "markdown",
   "metadata": {},
   "source": [
    "## Evaluate the Predictions of Different Prompts and Different Models"
   ]
  },
  {
   "cell_type": "code",
   "execution_count": 21,
   "metadata": {},
   "outputs": [],
   "source": [
    "from gpt_evaluate_labels import SemEvalGPTLabelEvaluator\n",
    "from result_summarizer import ResultSummarizer"
   ]
  },
  {
   "cell_type": "code",
   "execution_count": 22,
   "metadata": {},
   "outputs": [],
   "source": [
    "def evaluate(model_type, prompt_version):\n",
    "    gpt_data_processor = SemEvalGPTDataProcessor(topic=TOPIC_OF_INTEREST,\n",
    "                                                version_prompt=prompt_version)\n",
    "    data_processor = SemEvalDataProcessor()\n",
    "\n",
    "    # get the data with ground-truth labels and partition information (only evaluate on the vali and test set)\n",
    "    file_ground_truth = data_processor._get_file_processed_default(topic=TOPIC_OF_INTEREST)\n",
    "    df = process_dataframe(\n",
    "        input_csv=file_ground_truth,\n",
    "        dataset=DATASET)\n",
    "    df_partitions = data_processor.read_partitions(topic=TOPIC_OF_INTEREST)\n",
    "    dict_df_single_domain = partition_and_resample_df(\n",
    "        df, seed=None, partition_type=\"single_domain\",\n",
    "        read_partition_from_df=True,\n",
    "        df_partitions=df_partitions)\n",
    "    del dict_df_single_domain[\"train_raw\"]\n",
    "\n",
    "\n",
    "    # set the output path\n",
    "    path_model_output =  join(PATH_OUTPUT_ROOT, model_type, prompt_version)\n",
    "    file_output_metrics = join(path_model_output,\"metrics.csv\")\n",
    "    file_output_confusion_mat = join(path_model_output,\"confusion_matrix.csv\")\n",
    "    # also get the predictions\n",
    "    file_input_predictions = join(path_model_output,\"predictions.csv\")\n",
    "\n",
    "    # evaluate the predictions\n",
    "    gpt_label_evaluator = SemEvalGPTLabelEvaluator(\n",
    "        file_input_predictions=file_input_predictions,\n",
    "        file_input_ground_truth=file_ground_truth,\n",
    "        topic=TOPIC_OF_INTEREST, dataset=DATASET,\n",
    "        model_gpt=model_type,\n",
    "        num_examples_in_prompt=gpt_data_processor._get_num_examples_in_prompt(),\n",
    "        key_join=\"ID\",\n",
    "        list_tweet_id_in_prompt=gpt_data_processor._get_list_tweet_id_in_prompt(),\n",
    "        full_predictions=False)\n",
    "    gpt_label_evaluator.evaluate(\n",
    "        file_output_metrics=file_output_metrics,\n",
    "        file_output_confusion_mat=file_output_confusion_mat,\n",
    "        dict_df_eval=dict_df_single_domain,\n",
    "        col_name_set=\"set\")    "
   ]
  },
  {
   "cell_type": "code",
   "execution_count": 23,
   "metadata": {},
   "outputs": [
    {
     "name": "stderr",
     "output_type": "stream",
     "text": [
      "/home/sean/prelim_stance_detection/scripts/utils.py:713: FutureWarning: load_metric is deprecated and will be removed in the next major version of datasets. Use 'evaluate.load' instead, from the new library 🤗 Evaluate: https://huggingface.co/docs/evaluate\n",
      "  metric_computer[name_metric] = load_metric(name_metric)\n"
     ]
    }
   ],
   "source": [
    "evaluate(\"flan-t5-large\", \"zero_shot\")\n",
    "evaluate(\"flan-t5-large\", \"few_shot\")\n",
    "# although you may not have run the xxl model due to GPU contraint, you can still evaluate the results because I have already run the model elsewhere and saved the predictions\n",
    "evaluate(\"flan-t5-xxl\", \"zero_shot\")\n",
    "evaluate(\"flan-t5-xxl\", \"few_shot\")"
   ]
  },
  {
   "cell_type": "code",
   "execution_count": 24,
   "metadata": {},
   "outputs": [],
   "source": [
    "def summarize_results(list_model_type, list_prompt_version):\n",
    "    df_hightlight_metrics = pd.DataFrame()\n",
    "    for model_type in list_model_type:\n",
    "        # summarize the results\n",
    "        result_summarizer = ResultSummarizer(dataset=DATASET,\n",
    "                                             list_version_output=list_prompt_version,\n",
    "                                             eval_mode=\"single_domain\",\n",
    "                                             model_type=\"llm_\" + model_type,\n",
    "                                             task=None,\n",
    "                                             file_name_metrics=\"metrics.csv\",\n",
    "                                             file_name_confusion_mat=\"confusion_matrix.csv\",\n",
    "                                             path_input_root=join(PATH_OUTPUT_ROOT, model_type),\n",
    "                                             path_output=join(PATH_OUTPUT_ROOT,\"summary\"))\n",
    "        # write the summary to a csv file\n",
    "        df_hightlight_metrics_this = result_summarizer.write_hightlight_metrics_to_summary_csv(\n",
    "            list_metrics_highlight=['f1_macro', 'f1_NONE', 'f1_FAVOR', 'f1_AGAINST'],\n",
    "            list_sets_highlight=['vali_raw', 'test_raw'],\n",
    "            col_name_set=\"set\")\n",
    "        # visualize the confusion matrices and save the figures\n",
    "        result_summarizer.visualize_confusion_metrices_over_domains_comb(\n",
    "            [\"vali_raw\", \"test_raw\"],\n",
    "            preserve_order_list_sets=True)\n",
    "\n",
    "        df_hightlight_metrics = pd.concat([df_hightlight_metrics, df_hightlight_metrics_this], axis=0)\n",
    "    return df_hightlight_metrics\n"
   ]
  },
  {
   "cell_type": "code",
   "execution_count": 25,
   "metadata": {},
   "outputs": [
    {
     "data": {
      "text/plain": [
       "<Figure size 1500x500 with 0 Axes>"
      ]
     },
     "metadata": {},
     "output_type": "display_data"
    },
    {
     "data": {
      "text/plain": [
       "<Figure size 1500x500 with 0 Axes>"
      ]
     },
     "metadata": {},
     "output_type": "display_data"
    },
    {
     "data": {
      "text/plain": [
       "<Figure size 1500x500 with 0 Axes>"
      ]
     },
     "metadata": {},
     "output_type": "display_data"
    },
    {
     "data": {
      "text/plain": [
       "<Figure size 1500x500 with 0 Axes>"
      ]
     },
     "metadata": {},
     "output_type": "display_data"
    }
   ],
   "source": [
    "# sumamrize the result acrpss different models and prompt versions\n",
    "# - also visualize the confusion matrices\n",
    "df_hightlight_metrics_flan_t5 = summarize_results([\"flan-t5-large\",\"flan-t5-xxl\"],[\"zero_shot\",\"few_shot\"])"
   ]
  },
  {
   "cell_type": "code",
   "execution_count": 26,
   "metadata": {},
   "outputs": [],
   "source": [
    "df_hightlight_metrics_flan_t5 = df_hightlight_metrics_flan_t5[df_hightlight_metrics_flan_t5.model_type.isin([\"llm_flan-t5-large\",\"llm_flan-t5-xxl\"])]"
   ]
  },
  {
   "cell_type": "code",
   "execution_count": 27,
   "metadata": {},
   "outputs": [],
   "source": [
    "\n",
    "# reorder the rows\n",
    "df_hightlight_metrics_flan_t5['model_type'] = pd.Categorical(df_hightlight_metrics_flan_t5['model_type'], categories=[\"llm_flan-t5-large\",\"llm_flan-t5-xxl\"], ordered=True)\n",
    "df_hightlight_metrics_flan_t5['version'] = pd.Categorical(df_hightlight_metrics_flan_t5['version'], categories=[\"zero_shot\",\"few_shot\"], ordered=True)\n",
    "df_hightlight_metrics_flan_t5 = df_hightlight_metrics_flan_t5.sort_values(by=[\"model_type\",\"version\"]).reset_index(drop=True)"
   ]
  },
  {
   "cell_type": "code",
   "execution_count": 28,
   "metadata": {},
   "outputs": [
    {
     "data": {
      "text/html": [
       "<div>\n",
       "<style scoped>\n",
       "    .dataframe tbody tr th:only-of-type {\n",
       "        vertical-align: middle;\n",
       "    }\n",
       "\n",
       "    .dataframe tbody tr th {\n",
       "        vertical-align: top;\n",
       "    }\n",
       "\n",
       "    .dataframe thead th {\n",
       "        text-align: right;\n",
       "    }\n",
       "</style>\n",
       "<table border=\"1\" class=\"dataframe\">\n",
       "  <thead>\n",
       "    <tr style=\"text-align: right;\">\n",
       "      <th></th>\n",
       "      <th>model_type</th>\n",
       "      <th>version</th>\n",
       "      <th>set</th>\n",
       "      <th>f1_macro</th>\n",
       "      <th>f1_NONE</th>\n",
       "      <th>f1_FAVOR</th>\n",
       "      <th>f1_AGAINST</th>\n",
       "    </tr>\n",
       "  </thead>\n",
       "  <tbody>\n",
       "    <tr>\n",
       "      <th>1</th>\n",
       "      <td>llm_flan-t5-large</td>\n",
       "      <td>zero_shot</td>\n",
       "      <td>test_raw</td>\n",
       "      <td>0.2129</td>\n",
       "      <td>0.0435</td>\n",
       "      <td>0.1810</td>\n",
       "      <td>0.4143</td>\n",
       "    </tr>\n",
       "    <tr>\n",
       "      <th>3</th>\n",
       "      <td>llm_flan-t5-large</td>\n",
       "      <td>zero_shot</td>\n",
       "      <td>test_raw</td>\n",
       "      <td>0.2129</td>\n",
       "      <td>0.0435</td>\n",
       "      <td>0.1810</td>\n",
       "      <td>0.4143</td>\n",
       "    </tr>\n",
       "    <tr>\n",
       "      <th>5</th>\n",
       "      <td>llm_flan-t5-large</td>\n",
       "      <td>few_shot</td>\n",
       "      <td>test_raw</td>\n",
       "      <td>0.2780</td>\n",
       "      <td>0.0833</td>\n",
       "      <td>0.1990</td>\n",
       "      <td>0.5517</td>\n",
       "    </tr>\n",
       "    <tr>\n",
       "      <th>7</th>\n",
       "      <td>llm_flan-t5-large</td>\n",
       "      <td>few_shot</td>\n",
       "      <td>test_raw</td>\n",
       "      <td>0.2780</td>\n",
       "      <td>0.0833</td>\n",
       "      <td>0.1990</td>\n",
       "      <td>0.5517</td>\n",
       "    </tr>\n",
       "    <tr>\n",
       "      <th>9</th>\n",
       "      <td>llm_flan-t5-xxl</td>\n",
       "      <td>zero_shot</td>\n",
       "      <td>test_raw</td>\n",
       "      <td>0.6190</td>\n",
       "      <td>0.5833</td>\n",
       "      <td>0.5312</td>\n",
       "      <td>0.7425</td>\n",
       "    </tr>\n",
       "    <tr>\n",
       "      <th>11</th>\n",
       "      <td>llm_flan-t5-xxl</td>\n",
       "      <td>zero_shot</td>\n",
       "      <td>test_raw</td>\n",
       "      <td>0.6190</td>\n",
       "      <td>0.5833</td>\n",
       "      <td>0.5312</td>\n",
       "      <td>0.7425</td>\n",
       "    </tr>\n",
       "    <tr>\n",
       "      <th>13</th>\n",
       "      <td>llm_flan-t5-xxl</td>\n",
       "      <td>few_shot</td>\n",
       "      <td>test_raw</td>\n",
       "      <td>0.5919</td>\n",
       "      <td>0.5347</td>\n",
       "      <td>0.5197</td>\n",
       "      <td>0.7212</td>\n",
       "    </tr>\n",
       "    <tr>\n",
       "      <th>15</th>\n",
       "      <td>llm_flan-t5-xxl</td>\n",
       "      <td>few_shot</td>\n",
       "      <td>test_raw</td>\n",
       "      <td>0.5919</td>\n",
       "      <td>0.5347</td>\n",
       "      <td>0.5197</td>\n",
       "      <td>0.7212</td>\n",
       "    </tr>\n",
       "  </tbody>\n",
       "</table>\n",
       "</div>"
      ],
      "text/plain": [
       "           model_type    version       set  f1_macro  f1_NONE  f1_FAVOR  \\\n",
       "1   llm_flan-t5-large  zero_shot  test_raw    0.2129   0.0435    0.1810   \n",
       "3   llm_flan-t5-large  zero_shot  test_raw    0.2129   0.0435    0.1810   \n",
       "5   llm_flan-t5-large   few_shot  test_raw    0.2780   0.0833    0.1990   \n",
       "7   llm_flan-t5-large   few_shot  test_raw    0.2780   0.0833    0.1990   \n",
       "9     llm_flan-t5-xxl  zero_shot  test_raw    0.6190   0.5833    0.5312   \n",
       "11    llm_flan-t5-xxl  zero_shot  test_raw    0.6190   0.5833    0.5312   \n",
       "13    llm_flan-t5-xxl   few_shot  test_raw    0.5919   0.5347    0.5197   \n",
       "15    llm_flan-t5-xxl   few_shot  test_raw    0.5919   0.5347    0.5197   \n",
       "\n",
       "    f1_AGAINST  \n",
       "1       0.4143  \n",
       "3       0.4143  \n",
       "5       0.5517  \n",
       "7       0.5517  \n",
       "9       0.7425  \n",
       "11      0.7425  \n",
       "13      0.7212  \n",
       "15      0.7212  "
      ]
     },
     "execution_count": 28,
     "metadata": {},
     "output_type": "execute_result"
    }
   ],
   "source": [
    "df_hightlight_metrics_flan_t5 = df_hightlight_metrics_flan_t5[[\"model_type\",\"version\",\"set\",\"f1_macro\",\"f1_NONE\",\"f1_FAVOR\",\"f1_AGAINST\"]][df_hightlight_metrics_flan_t5.set.isin([\"test_raw\"])].sort_values(by=[\"model_type\",\"version\"])\n",
    "df_hightlight_metrics_flan_t5"
   ]
  },
  {
   "attachments": {},
   "cell_type": "markdown",
   "metadata": {},
   "source": [
    "### Compare FLAN-T5 with BERT\n",
    "\n",
    "- from the previous tutorial"
   ]
  },
  {
   "cell_type": "code",
   "execution_count": 31,
   "metadata": {},
   "outputs": [
    {
     "data": {
      "text/html": [
       "<div>\n",
       "<style scoped>\n",
       "    .dataframe tbody tr th:only-of-type {\n",
       "        vertical-align: middle;\n",
       "    }\n",
       "\n",
       "    .dataframe tbody tr th {\n",
       "        vertical-align: top;\n",
       "    }\n",
       "\n",
       "    .dataframe thead th {\n",
       "        text-align: right;\n",
       "    }\n",
       "</style>\n",
       "<table border=\"1\" class=\"dataframe\">\n",
       "  <thead>\n",
       "    <tr style=\"text-align: right;\">\n",
       "      <th></th>\n",
       "      <th>model_type</th>\n",
       "      <th>set</th>\n",
       "      <th>f1_macro</th>\n",
       "      <th>f1_NONE</th>\n",
       "      <th>f1_FAVOR</th>\n",
       "      <th>f1_AGAINST</th>\n",
       "    </tr>\n",
       "  </thead>\n",
       "  <tbody>\n",
       "    <tr>\n",
       "      <th>0</th>\n",
       "      <td>bert-base-uncased</td>\n",
       "      <td>test_raw</td>\n",
       "      <td>0.4549</td>\n",
       "      <td>0.4060</td>\n",
       "      <td>0.4056</td>\n",
       "      <td>0.5532</td>\n",
       "    </tr>\n",
       "    <tr>\n",
       "      <th>1</th>\n",
       "      <td>vinai_bertweet_base</td>\n",
       "      <td>test_raw</td>\n",
       "      <td>0.4904</td>\n",
       "      <td>0.5109</td>\n",
       "      <td>0.4819</td>\n",
       "      <td>0.4784</td>\n",
       "    </tr>\n",
       "    <tr>\n",
       "      <th>2</th>\n",
       "      <td>kornosk_polibertweet_mlm</td>\n",
       "      <td>test_raw</td>\n",
       "      <td>0.5200</td>\n",
       "      <td>0.4848</td>\n",
       "      <td>0.4697</td>\n",
       "      <td>0.6054</td>\n",
       "    </tr>\n",
       "  </tbody>\n",
       "</table>\n",
       "</div>"
      ],
      "text/plain": [
       "                 model_type       set  f1_macro  f1_NONE  f1_FAVOR  f1_AGAINST\n",
       "0         bert-base-uncased  test_raw    0.4549   0.4060    0.4056      0.5532\n",
       "1       vinai_bertweet_base  test_raw    0.4904   0.5109    0.4819      0.4784\n",
       "2  kornosk_polibertweet_mlm  test_raw    0.5200   0.4848    0.4697      0.6054"
      ]
     },
     "execution_count": 31,
     "metadata": {},
     "output_type": "execute_result"
    }
   ],
   "source": [
    "df_hightlight_metrics_bert = pd.read_csv(join(par.PATH_RESULT_SEM_EVAL_TUNING,\"summary\",\"metrics_highlights.csv\"))\n",
    "df_hightlight_metrics_bert = df_hightlight_metrics_bert[[\"version\",\"set\",\"f1_macro\",\"f1_NONE\",\"f1_FAVOR\",\"f1_AGAINST\"]][df_hightlight_metrics_bert.set.isin([\"test_raw\"])].rename(columns={\"version\":\"model_type\"})\n",
    "# reorder the rows\n",
    "df_hightlight_metrics_bert['model_type'] = pd.Categorical(df_hightlight_metrics_bert['model_type'], categories=[\"bert-base-uncased\",\"vinai_bertweet_base\",\"kornosk_polibertweet_mlm\"], ordered=True)\n",
    "df_hightlight_metrics_bert = df_hightlight_metrics_bert.sort_values(by=[\"model_type\"]).reset_index(drop=True)\n",
    "df_hightlight_metrics_bert"
   ]
  },
  {
   "attachments": {},
   "cell_type": "markdown",
   "metadata": {},
   "source": [
    "# Feed the prompts to ChatGPT\n",
    "- ChatGPT-turbo-3.5"
   ]
  },
  {
   "cell_type": "code",
   "execution_count": 32,
   "metadata": {},
   "outputs": [],
   "source": [
    "# Whether you want to prompt the GPT model yourself (this would cost around $1 USD for the entire tutorial)\n",
    "PROMPT_CHAT_GPT = False\n",
    "\n",
    "# You should set the API key for OpenAI\n",
    "OPEN_AI_KEY = \"FILL YOUR KEY HERE\"\n",
    "\n",
    "if PROMPT_CHAT_GPT:\n",
    "    assert OPEN_AI_KEY!=\"FILL YOUR KEY HERE\", \"You should set the API key for OpenAI\""
   ]
  },
  {
   "cell_type": "code",
   "execution_count": 33,
   "metadata": {},
   "outputs": [],
   "source": [
    "from gpt_predict_label import GPTChatTurbo3_5LabelPredictor"
   ]
  },
  {
   "cell_type": "code",
   "execution_count": 34,
   "metadata": {},
   "outputs": [],
   "source": [
    "class PromptChatGPT_3_5:\n",
    "    def __init__(self,prompt_version) -> None:\n",
    "        # get the output paths\n",
    "        # model_type_name = tidy_name(model_type)\n",
    "        path_output = join(PATH_OUTPUT_ROOT, \"chatgpt_turbo_3_5\", prompt_version)\n",
    "        self.file_output_predictions = join(path_output, \"predictions.csv\")\n",
    "\n",
    "        gpt_data_processor = SemEvalGPTDataProcessor(version_prompt=prompt_version, topic=TOPIC_OF_INTEREST)\n",
    "        \n",
    "        # create the prompt, which is the input to the LLMs\n",
    "        df_input_text = gpt_data_processor.embed_prompt(file_output=None, write_csv=False,\n",
    "                                                        return_df=True)\n",
    "\n",
    "        # partition the data into train, vali, test (note that we only need the vali and test set in this approach)\n",
    "        dict_df_single_domain = partition_and_resample_df(\n",
    "            df_input_text, seed=None, partition_type=\"single_domain\",\n",
    "            read_partition_from_df=True,\n",
    "            df_partitions=df_partitions)\n",
    "\n",
    "        # select the partition to be labeled\n",
    "        # - vali and test\n",
    "        df_input_text_filtered = pd.DataFrame()\n",
    "        for partition in [\"vali_raw\", \"test_raw\"]:\n",
    "            df_input_text_filtered = pd.concat([df_input_text_filtered, dict_df_single_domain[partition]])\n",
    "\n",
    "        self.df_input_text = df_input_text_filtered\n",
    "\n",
    "        # specify the output type (single-word or multi-word)\n",
    "        if prompt_version in [\"zero_shot\",\"few_shot\"]:\n",
    "            mode_output = \"single-word\"\n",
    "        elif prompt_version == \"CoT\":\n",
    "            mode_output = \"CoT\"\n",
    "\n",
    "        self.llm_label_predictor = GPTChatTurbo3_5LabelPredictor(col_name_text=\"tweet_embedded\",\n",
    "                                                            col_name_label=\"stance_predicted\",\n",
    "                                                            col_name_text_id=par.TEXT_ID,\n",
    "                                                            mode_output=mode_output)\n",
    "    def estimate_cost(self):\n",
    "        total_cost_estimate = self.llm_label_predictor.estimate_total_cost(self.df_input_text)\n",
    "        print(\"Estimated total cost: ${}\".format(total_cost_estimate))        \n",
    "    def predict_labels(self):\n",
    "        # prompt the LLM to make predictions (write the predictions to `file_output_predictions`)\n",
    "        self.llm_label_predictor.predict_labels(self.df_input_text,\n",
    "                                           self.file_output_predictions,\n",
    "                                           keep_tweet_id=True, keep_text=False,\n",
    "                                           output_prob_mode=None,\n",
    "                                           list_label_space=None,\n",
    "                                           col_name_tweet_id=par.TEXT_ID)\n",
    "    def load_predicted_labels(self):\n",
    "        # load the predictions\n",
    "        df_predictions = pd.read_csv(self.file_output_predictions)\n",
    "        return df_predictions\n"
   ]
  },
  {
   "cell_type": "code",
   "execution_count": 35,
   "metadata": {},
   "outputs": [],
   "source": [
    "prompt_chat_gpt_zero_shot = PromptChatGPT_3_5(\"zero_shot\")\n"
   ]
  },
  {
   "cell_type": "code",
   "execution_count": 36,
   "metadata": {},
   "outputs": [
    {
     "name": "stdout",
     "output_type": "stream",
     "text": [
      "Estimated total cost: $0.19196200000000002\n"
     ]
    }
   ],
   "source": [
    "prompt_chat_gpt_zero_shot.estimate_cost()"
   ]
  },
  {
   "cell_type": "code",
   "execution_count": 37,
   "metadata": {},
   "outputs": [],
   "source": [
    "if PROMPT_CHAT_GPT:\n",
    "  prompt_chat_gpt_zero_shot.predict_labels()"
   ]
  },
  {
   "cell_type": "code",
   "execution_count": 38,
   "metadata": {},
   "outputs": [
    {
     "name": "stdout",
     "output_type": "stream",
     "text": [
      "Estimated total cost: $0.3164880000000003\n"
     ]
    }
   ],
   "source": [
    "prompt_chat_gpt_few_shot = PromptChatGPT_3_5(\"few_shot\")\n",
    "prompt_chat_gpt_few_shot.estimate_cost()\n",
    "if PROMPT_CHAT_GPT:\n",
    "  prompt_chat_gpt_few_shot.predict_labels()"
   ]
  },
  {
   "cell_type": "code",
   "execution_count": 39,
   "metadata": {},
   "outputs": [
    {
     "name": "stdout",
     "output_type": "stream",
     "text": [
      "Estimated total cost: $0.3324100000000002\n"
     ]
    }
   ],
   "source": [
    "prompt_chat_gpt_cot = PromptChatGPT_3_5(\"CoT\")\n",
    "prompt_chat_gpt_cot.estimate_cost()\n",
    "if PROMPT_CHAT_GPT:\n",
    "  prompt_chat_gpt_cot.predict_labels()"
   ]
  },
  {
   "attachments": {},
   "cell_type": "markdown",
   "metadata": {},
   "source": [
    "## View the predictions"
   ]
  },
  {
   "cell_type": "code",
   "execution_count": 40,
   "metadata": {},
   "outputs": [],
   "source": [
    "TEXT_ID_EXAMPLE = 9"
   ]
  },
  {
   "cell_type": "code",
   "execution_count": 41,
   "metadata": {},
   "outputs": [
    {
     "name": "stdout",
     "output_type": "stream",
     "text": [
      "prompt:\n",
      " What is the stance of the tweet below with respect to 'Legalization of Abortion'?  If we can infer from the tweet that the tweeter supports 'Legalization of Abortion', please label it as 'in-favor'. If we can infer from the tweet that the tweeter is against 'Legalization of Abortion', please label is as 'against'. If we can infer from the tweet that the tweeter has a neutral stance towards 'Legalization of Abortion', please label it as 'neutral-or-unclear'. If there is no clue in the tweet to reveal the stance of the tweeter towards 'Legalization of Abortion', please also label is as 'neutral-or-unclear'. Please use exactly one word from the following 3 categories to label it: 'in-favor', 'against', 'neutral-or-unclear'. Here is the tweet. 'dear religious right: i keep my uterus out of your church, so keep your church out my uterus.' The stance of the tweet is: \n",
      "\n",
      "GPT response:\n",
      " in-favor.\n",
      "\n"
     ]
    }
   ],
   "source": [
    "\n",
    "print(\"prompt:\\n {}\\n\".format(prompt_chat_gpt_zero_shot.load_predicted_labels().loc[TEXT_ID_EXAMPLE,\"tweet_embedded\"]))\n",
    "print(\"GPT response:\\n {}\\n\".format(prompt_chat_gpt_zero_shot.load_predicted_labels().loc[TEXT_ID_EXAMPLE,\"stance_predicted\"]))"
   ]
  },
  {
   "cell_type": "code",
   "execution_count": 42,
   "metadata": {},
   "outputs": [
    {
     "name": "stdout",
     "output_type": "stream",
     "text": [
      "prompt:\n",
      " What is the stance of the tweet below with respect to 'Legalization of Abortion'?  If we can infer from the tweet that the tweeter supports 'Legalization of Abortion', please label it as 'in-favor'. If we can infer from the tweet that the tweeter is against 'Legalization of Abortion', please label is as 'against'. If we can infer from the tweet that the tweeter has a neutral stance towards 'Legalization of Abortion', please label it as 'neutral-or-unclear'. If there is no clue in the tweet to reveal the stance of the tweeter towards 'Legalization of Abortion', please also label is as 'neutral-or-unclear'. Please use exactly one word from the following 3 categories to label it: 'in-favor', 'against', 'neutral-or-unclear'.  Here are some examples of tweets. Make sure to classify the last tweet correctly.\n",
      "Q: Tweet: it's a free country. freedom includes freedom of choice.\n",
      "Is this tweet in-favor, against, or neutral-or-unclear?\n",
      "A: in-favor\n",
      "Q: Tweet: i really don't understand how some people are pro-choice. a life is a life no matter if it's 2 weeks old or 20 years old.\n",
      "Is this tweet in-favor, against, or neutral-or-unclear?\n",
      "A: against\n",
      "Q: Tweet: so ready for my abortion debate\n",
      "Is this tweet in-favor, against, or neutral-or-unclear?\n",
      "A: neutral-or-unclear\n",
      "Q: Tweet: 'dear religious right: i keep my uterus out of your church, so keep your church out my uterus.'\n",
      "Is this tweet in-favor, against, or neutral-or-unclear?\n",
      "A: \n",
      "\n",
      "GPT response:\n",
      " in-favor\n",
      "\n"
     ]
    }
   ],
   "source": [
    "print(\"prompt:\\n {}\\n\".format(prompt_chat_gpt_few_shot.load_predicted_labels().loc[TEXT_ID_EXAMPLE,\"tweet_embedded\"]))\n",
    "print(\"GPT response:\\n {}\\n\".format(prompt_chat_gpt_few_shot.load_predicted_labels().loc[TEXT_ID_EXAMPLE,\"stance_predicted\"]))"
   ]
  },
  {
   "cell_type": "code",
   "execution_count": 43,
   "metadata": {},
   "outputs": [
    {
     "name": "stdout",
     "output_type": "stream",
     "text": [
      "prompt:\n",
      " What is the stance of the tweet below with respect to 'Legalization of Abortion'?  If we can infer from the tweet that the tweeter supports 'Legalization of Abortion', please label it as 'in-favor'. If we can infer from the tweet that the tweeter is against 'Legalization of Abortion', please label is as 'against'. If we can infer from the tweet that the tweeter has a neutral stance towards 'Legalization of Abortion', please label it as 'neutral-or-unclear'. If there is no clue in the tweet to reveal the stance of the tweeter towards 'Legalization of Abortion', please also label is as 'neutral-or-unclear'. Here is the tweet. 'dear religious right: i keep my uterus out of your church, so keep your church out my uterus.' What is the stance of the tweet with respect to 'Legalization of Abortion'? Please make sure that at the end of your response, use exactly one word from the following 3 categories to label the stance with respect to 'Legalization of Abortion': 'in-favor', 'against', 'neutral-or-unclear’. Let's think step by step.\n",
      "\n",
      "GPT response:\n",
      " The tweet implies that the tweeter supports the legalization of abortion and believes that the religious right should not interfere with a woman's right to choose. Therefore, the stance of the tweet with respect to 'Legalization of Abortion' is 'in-favor'.\n",
      "\n"
     ]
    }
   ],
   "source": [
    "print(\"prompt:\\n {}\\n\".format(prompt_chat_gpt_cot.load_predicted_labels().loc[TEXT_ID_EXAMPLE,\"tweet_embedded\"]))\n",
    "print(\"GPT response:\\n {}\\n\".format(prompt_chat_gpt_cot.load_predicted_labels().loc[TEXT_ID_EXAMPLE,\"stance_predicted\"]))"
   ]
  },
  {
   "attachments": {},
   "cell_type": "markdown",
   "metadata": {},
   "source": [
    "## Evaluate the Predictions of Different Prompts"
   ]
  },
  {
   "cell_type": "code",
   "execution_count": 44,
   "metadata": {},
   "outputs": [],
   "source": [
    "evaluate(\"chatgpt_turbo_3_5\", \"zero_shot\")\n",
    "evaluate(\"chatgpt_turbo_3_5\", \"few_shot\")\n",
    "evaluate(\"chatgpt_turbo_3_5\", \"CoT\")"
   ]
  },
  {
   "cell_type": "code",
   "execution_count": 45,
   "metadata": {},
   "outputs": [
    {
     "data": {
      "text/plain": [
       "<Figure size 1500x500 with 0 Axes>"
      ]
     },
     "metadata": {},
     "output_type": "display_data"
    },
    {
     "data": {
      "text/plain": [
       "<Figure size 1500x500 with 0 Axes>"
      ]
     },
     "metadata": {},
     "output_type": "display_data"
    },
    {
     "data": {
      "text/plain": [
       "<Figure size 1500x500 with 0 Axes>"
      ]
     },
     "metadata": {},
     "output_type": "display_data"
    }
   ],
   "source": [
    "df_hightlight_metrics_chatgpt = summarize_results([\"chatgpt_turbo_3_5\"], [\"zero_shot\",\"few_shot\",\"CoT\"])"
   ]
  },
  {
   "cell_type": "code",
   "execution_count": 46,
   "metadata": {},
   "outputs": [
    {
     "data": {
      "text/html": [
       "<div>\n",
       "<style scoped>\n",
       "    .dataframe tbody tr th:only-of-type {\n",
       "        vertical-align: middle;\n",
       "    }\n",
       "\n",
       "    .dataframe tbody tr th {\n",
       "        vertical-align: top;\n",
       "    }\n",
       "\n",
       "    .dataframe thead th {\n",
       "        text-align: right;\n",
       "    }\n",
       "</style>\n",
       "<table border=\"1\" class=\"dataframe\">\n",
       "  <thead>\n",
       "    <tr style=\"text-align: right;\">\n",
       "      <th></th>\n",
       "      <th>model_type</th>\n",
       "      <th>version</th>\n",
       "      <th>set</th>\n",
       "      <th>f1_macro</th>\n",
       "      <th>f1_NONE</th>\n",
       "      <th>f1_FAVOR</th>\n",
       "      <th>f1_AGAINST</th>\n",
       "    </tr>\n",
       "  </thead>\n",
       "  <tbody>\n",
       "    <tr>\n",
       "      <th>15</th>\n",
       "      <td>llm_chatgpt_turbo_3_5</td>\n",
       "      <td>zero_shot</td>\n",
       "      <td>test_raw</td>\n",
       "      <td>0.5071</td>\n",
       "      <td>0.4356</td>\n",
       "      <td>0.6723</td>\n",
       "      <td>0.4135</td>\n",
       "    </tr>\n",
       "    <tr>\n",
       "      <th>17</th>\n",
       "      <td>llm_chatgpt_turbo_3_5</td>\n",
       "      <td>few_shot</td>\n",
       "      <td>test_raw</td>\n",
       "      <td>0.6372</td>\n",
       "      <td>0.5634</td>\n",
       "      <td>0.6769</td>\n",
       "      <td>0.6713</td>\n",
       "    </tr>\n",
       "    <tr>\n",
       "      <th>19</th>\n",
       "      <td>llm_chatgpt_turbo_3_5</td>\n",
       "      <td>CoT</td>\n",
       "      <td>test_raw</td>\n",
       "      <td>0.3877</td>\n",
       "      <td>0.3600</td>\n",
       "      <td>0.5684</td>\n",
       "      <td>0.2347</td>\n",
       "    </tr>\n",
       "  </tbody>\n",
       "</table>\n",
       "</div>"
      ],
      "text/plain": [
       "               model_type    version       set  f1_macro  f1_NONE  f1_FAVOR  \\\n",
       "15  llm_chatgpt_turbo_3_5  zero_shot  test_raw    0.5071   0.4356    0.6723   \n",
       "17  llm_chatgpt_turbo_3_5   few_shot  test_raw    0.6372   0.5634    0.6769   \n",
       "19  llm_chatgpt_turbo_3_5        CoT  test_raw    0.3877   0.3600    0.5684   \n",
       "\n",
       "    f1_AGAINST  \n",
       "15      0.4135  \n",
       "17      0.6713  \n",
       "19      0.2347  "
      ]
     },
     "execution_count": 46,
     "metadata": {},
     "output_type": "execute_result"
    }
   ],
   "source": [
    "df_hightlight_metrics_chatgpt = df_hightlight_metrics_chatgpt[df_hightlight_metrics_chatgpt.model_type.isin([\"llm_chatgpt_turbo_3_5\"])]\n",
    "\n",
    "# reorder the rows\n",
    "df_hightlight_metrics_chatgpt['model_type'] = pd.Categorical(df_hightlight_metrics_chatgpt['model_type'], categories=[\"llm_chatgpt_turbo_3_5\"], ordered=True)\n",
    "df_hightlight_metrics_chatgpt['version'] = pd.Categorical(df_hightlight_metrics_chatgpt['version'], categories=[\"zero_shot\",\"few_shot\",\"CoT\"], ordered=True)\n",
    "\n",
    "df_hightlight_metrics_chatgpt = df_hightlight_metrics_chatgpt[[\"model_type\",\"version\",\"set\",\"f1_macro\",\"f1_NONE\",\"f1_FAVOR\",\"f1_AGAINST\"]][df_hightlight_metrics_chatgpt.set.isin([\"test_raw\"])].sort_values(by=[\"model_type\",\"version\"])\n",
    "df_hightlight_metrics_chatgpt"
   ]
  },
  {
   "attachments": {},
   "cell_type": "markdown",
   "metadata": {},
   "source": [
    "## Look at the confusion matrix"
   ]
  },
  {
   "cell_type": "code",
   "execution_count": 47,
   "metadata": {},
   "outputs": [],
   "source": [
    "from IPython.display import Image, display"
   ]
  },
  {
   "cell_type": "code",
   "execution_count": 48,
   "metadata": {},
   "outputs": [
    {
     "data": {
      "image/png": "[encoded data removed]",
      "text/plain": [
       "<IPython.core.display.Image object>"
      ]
     },
     "metadata": {},
     "output_type": "display_data"
    }
   ],
   "source": [
    "# read png file\n",
    "display(Image(filename=join(PATH_OUTPUT_ROOT,\"summary\",\"llm_chatgpt_turbo_3_5_few_shot_comb_confusion_mat.png\")))"
   ]
  },
  {
   "cell_type": "code",
   "execution_count": 49,
   "metadata": {},
   "outputs": [
    {
     "data": {
      "image/png": "[encoded data removed]",
      "text/plain": [
       "<IPython.core.display.Image object>"
      ]
     },
     "metadata": {},
     "output_type": "display_data"
    }
   ],
   "source": [
    "display(Image(filename=join(PATH_OUTPUT_ROOT,\"summary\",\"llm_chatgpt_turbo_3_5_CoT_comb_confusion_mat.png\")))\n"
   ]
  },
  {
   "attachments": {},
   "cell_type": "markdown",
   "metadata": {},
   "source": [
    "# Compare ChatGPT with FLAN-T5 and BERT"
   ]
  },
  {
   "cell_type": "code",
   "execution_count": 50,
   "metadata": {},
   "outputs": [
    {
     "data": {
      "text/html": [
       "<div>\n",
       "<style scoped>\n",
       "    .dataframe tbody tr th:only-of-type {\n",
       "        vertical-align: middle;\n",
       "    }\n",
       "\n",
       "    .dataframe tbody tr th {\n",
       "        vertical-align: top;\n",
       "    }\n",
       "\n",
       "    .dataframe thead th {\n",
       "        text-align: right;\n",
       "    }\n",
       "</style>\n",
       "<table border=\"1\" class=\"dataframe\">\n",
       "  <thead>\n",
       "    <tr style=\"text-align: right;\">\n",
       "      <th></th>\n",
       "      <th>model_type</th>\n",
       "      <th>version</th>\n",
       "      <th>set</th>\n",
       "      <th>f1_macro</th>\n",
       "      <th>f1_NONE</th>\n",
       "      <th>f1_FAVOR</th>\n",
       "      <th>f1_AGAINST</th>\n",
       "    </tr>\n",
       "  </thead>\n",
       "  <tbody>\n",
       "    <tr>\n",
       "      <th>1</th>\n",
       "      <td>llm_flan-t5-large</td>\n",
       "      <td>zero_shot</td>\n",
       "      <td>test_raw</td>\n",
       "      <td>0.2129</td>\n",
       "      <td>0.0435</td>\n",
       "      <td>0.1810</td>\n",
       "      <td>0.4143</td>\n",
       "    </tr>\n",
       "    <tr>\n",
       "      <th>3</th>\n",
       "      <td>llm_flan-t5-large</td>\n",
       "      <td>zero_shot</td>\n",
       "      <td>test_raw</td>\n",
       "      <td>0.2129</td>\n",
       "      <td>0.0435</td>\n",
       "      <td>0.1810</td>\n",
       "      <td>0.4143</td>\n",
       "    </tr>\n",
       "    <tr>\n",
       "      <th>5</th>\n",
       "      <td>llm_flan-t5-large</td>\n",
       "      <td>few_shot</td>\n",
       "      <td>test_raw</td>\n",
       "      <td>0.2780</td>\n",
       "      <td>0.0833</td>\n",
       "      <td>0.1990</td>\n",
       "      <td>0.5517</td>\n",
       "    </tr>\n",
       "    <tr>\n",
       "      <th>7</th>\n",
       "      <td>llm_flan-t5-large</td>\n",
       "      <td>few_shot</td>\n",
       "      <td>test_raw</td>\n",
       "      <td>0.2780</td>\n",
       "      <td>0.0833</td>\n",
       "      <td>0.1990</td>\n",
       "      <td>0.5517</td>\n",
       "    </tr>\n",
       "    <tr>\n",
       "      <th>9</th>\n",
       "      <td>llm_flan-t5-xxl</td>\n",
       "      <td>zero_shot</td>\n",
       "      <td>test_raw</td>\n",
       "      <td>0.6190</td>\n",
       "      <td>0.5833</td>\n",
       "      <td>0.5312</td>\n",
       "      <td>0.7425</td>\n",
       "    </tr>\n",
       "    <tr>\n",
       "      <th>11</th>\n",
       "      <td>llm_flan-t5-xxl</td>\n",
       "      <td>zero_shot</td>\n",
       "      <td>test_raw</td>\n",
       "      <td>0.6190</td>\n",
       "      <td>0.5833</td>\n",
       "      <td>0.5312</td>\n",
       "      <td>0.7425</td>\n",
       "    </tr>\n",
       "    <tr>\n",
       "      <th>13</th>\n",
       "      <td>llm_flan-t5-xxl</td>\n",
       "      <td>few_shot</td>\n",
       "      <td>test_raw</td>\n",
       "      <td>0.5919</td>\n",
       "      <td>0.5347</td>\n",
       "      <td>0.5197</td>\n",
       "      <td>0.7212</td>\n",
       "    </tr>\n",
       "    <tr>\n",
       "      <th>15</th>\n",
       "      <td>llm_flan-t5-xxl</td>\n",
       "      <td>few_shot</td>\n",
       "      <td>test_raw</td>\n",
       "      <td>0.5919</td>\n",
       "      <td>0.5347</td>\n",
       "      <td>0.5197</td>\n",
       "      <td>0.7212</td>\n",
       "    </tr>\n",
       "    <tr>\n",
       "      <th>15</th>\n",
       "      <td>llm_chatgpt_turbo_3_5</td>\n",
       "      <td>zero_shot</td>\n",
       "      <td>test_raw</td>\n",
       "      <td>0.5071</td>\n",
       "      <td>0.4356</td>\n",
       "      <td>0.6723</td>\n",
       "      <td>0.4135</td>\n",
       "    </tr>\n",
       "    <tr>\n",
       "      <th>17</th>\n",
       "      <td>llm_chatgpt_turbo_3_5</td>\n",
       "      <td>few_shot</td>\n",
       "      <td>test_raw</td>\n",
       "      <td>0.6372</td>\n",
       "      <td>0.5634</td>\n",
       "      <td>0.6769</td>\n",
       "      <td>0.6713</td>\n",
       "    </tr>\n",
       "    <tr>\n",
       "      <th>19</th>\n",
       "      <td>llm_chatgpt_turbo_3_5</td>\n",
       "      <td>CoT</td>\n",
       "      <td>test_raw</td>\n",
       "      <td>0.3877</td>\n",
       "      <td>0.3600</td>\n",
       "      <td>0.5684</td>\n",
       "      <td>0.2347</td>\n",
       "    </tr>\n",
       "  </tbody>\n",
       "</table>\n",
       "</div>"
      ],
      "text/plain": [
       "               model_type    version       set  f1_macro  f1_NONE  f1_FAVOR  \\\n",
       "1       llm_flan-t5-large  zero_shot  test_raw    0.2129   0.0435    0.1810   \n",
       "3       llm_flan-t5-large  zero_shot  test_raw    0.2129   0.0435    0.1810   \n",
       "5       llm_flan-t5-large   few_shot  test_raw    0.2780   0.0833    0.1990   \n",
       "7       llm_flan-t5-large   few_shot  test_raw    0.2780   0.0833    0.1990   \n",
       "9         llm_flan-t5-xxl  zero_shot  test_raw    0.6190   0.5833    0.5312   \n",
       "11        llm_flan-t5-xxl  zero_shot  test_raw    0.6190   0.5833    0.5312   \n",
       "13        llm_flan-t5-xxl   few_shot  test_raw    0.5919   0.5347    0.5197   \n",
       "15        llm_flan-t5-xxl   few_shot  test_raw    0.5919   0.5347    0.5197   \n",
       "15  llm_chatgpt_turbo_3_5  zero_shot  test_raw    0.5071   0.4356    0.6723   \n",
       "17  llm_chatgpt_turbo_3_5   few_shot  test_raw    0.6372   0.5634    0.6769   \n",
       "19  llm_chatgpt_turbo_3_5        CoT  test_raw    0.3877   0.3600    0.5684   \n",
       "\n",
       "    f1_AGAINST  \n",
       "1       0.4143  \n",
       "3       0.4143  \n",
       "5       0.5517  \n",
       "7       0.5517  \n",
       "9       0.7425  \n",
       "11      0.7425  \n",
       "13      0.7212  \n",
       "15      0.7212  \n",
       "15      0.4135  \n",
       "17      0.6713  \n",
       "19      0.2347  "
      ]
     },
     "execution_count": 50,
     "metadata": {},
     "output_type": "execute_result"
    }
   ],
   "source": [
    "df_hightlight_metrics_llm = \\\n",
    "  pd.concat([df_hightlight_metrics_flan_t5 , df_hightlight_metrics_chatgpt],\n",
    "           axis=0)\n",
    "# order the columns: model_type, version, set, f1_macro, f1_NONE, f1_FAVOR, f1_AGAINST\n",
    "df_hightlight_metrics_llm = df_hightlight_metrics_llm[[\"model_type\",\"version\",\"set\",\"f1_macro\",\"f1_NONE\",\"f1_FAVOR\",\"f1_AGAINST\"]]\n",
    "df_hightlight_metrics_llm"
   ]
  },
  {
   "cell_type": "code",
   "execution_count": 51,
   "metadata": {},
   "outputs": [
    {
     "data": {
      "text/html": [
       "<div>\n",
       "<style scoped>\n",
       "    .dataframe tbody tr th:only-of-type {\n",
       "        vertical-align: middle;\n",
       "    }\n",
       "\n",
       "    .dataframe tbody tr th {\n",
       "        vertical-align: top;\n",
       "    }\n",
       "\n",
       "    .dataframe thead th {\n",
       "        text-align: right;\n",
       "    }\n",
       "</style>\n",
       "<table border=\"1\" class=\"dataframe\">\n",
       "  <thead>\n",
       "    <tr style=\"text-align: right;\">\n",
       "      <th></th>\n",
       "      <th>model_type</th>\n",
       "      <th>set</th>\n",
       "      <th>f1_macro</th>\n",
       "      <th>f1_NONE</th>\n",
       "      <th>f1_FAVOR</th>\n",
       "      <th>f1_AGAINST</th>\n",
       "    </tr>\n",
       "  </thead>\n",
       "  <tbody>\n",
       "    <tr>\n",
       "      <th>0</th>\n",
       "      <td>bert-base-uncased</td>\n",
       "      <td>test_raw</td>\n",
       "      <td>0.4549</td>\n",
       "      <td>0.4060</td>\n",
       "      <td>0.4056</td>\n",
       "      <td>0.5532</td>\n",
       "    </tr>\n",
       "    <tr>\n",
       "      <th>1</th>\n",
       "      <td>vinai_bertweet_base</td>\n",
       "      <td>test_raw</td>\n",
       "      <td>0.4904</td>\n",
       "      <td>0.5109</td>\n",
       "      <td>0.4819</td>\n",
       "      <td>0.4784</td>\n",
       "    </tr>\n",
       "    <tr>\n",
       "      <th>2</th>\n",
       "      <td>kornosk_polibertweet_mlm</td>\n",
       "      <td>test_raw</td>\n",
       "      <td>0.5200</td>\n",
       "      <td>0.4848</td>\n",
       "      <td>0.4697</td>\n",
       "      <td>0.6054</td>\n",
       "    </tr>\n",
       "  </tbody>\n",
       "</table>\n",
       "</div>"
      ],
      "text/plain": [
       "                 model_type       set  f1_macro  f1_NONE  f1_FAVOR  f1_AGAINST\n",
       "0         bert-base-uncased  test_raw    0.4549   0.4060    0.4056      0.5532\n",
       "1       vinai_bertweet_base  test_raw    0.4904   0.5109    0.4819      0.4784\n",
       "2  kornosk_polibertweet_mlm  test_raw    0.5200   0.4848    0.4697      0.6054"
      ]
     },
     "execution_count": 51,
     "metadata": {},
     "output_type": "execute_result"
    }
   ],
   "source": [
    "# bert\n",
    "df_hightlight_metrics_bert"
   ]
  },
  {
   "cell_type": "code",
   "execution_count": null,
   "metadata": {},
   "outputs": [],
   "source": []
  }
 ],
 "metadata": {
  "kernelspec": {
   "display_name": "prelim",
   "language": "python",
   "name": "python3"
  },
  "language_info": {
   "codemirror_mode": {
    "name": "ipython",
    "version": 3
   },
   "file_extension": ".py",
   "mimetype": "text/x-python",
   "name": "python",
   "nbconvert_exporter": "python",
   "pygments_lexer": "ipython3",
   "version": "3.10.10"
  },
  "orig_nbformat": 4,
  "vscode": {
   "interpreter": {
    "hash": "e3d13afa1ef7f24f0b839edb86af4b15e9c5c71463100eb9853c0d0574067878"
   }
  }
 },
 "nbformat": 4,
 "nbformat_minor": 2
}
