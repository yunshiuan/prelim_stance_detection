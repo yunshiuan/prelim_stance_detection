{
 "cells": [
  {
   "cell_type": "code",
   "execution_count": null,
   "metadata": {},
   "outputs": [],
   "source": []
  },
  {
   "cell_type": "code",
   "execution_count": null,
   "metadata": {},
   "outputs": [],
   "source": []
  },
  {
   "cell_type": "code",
   "execution_count": null,
   "metadata": {},
   "outputs": [],
   "source": []
  },
  {
   "attachments": {},
   "cell_type": "markdown",
   "metadata": {},
   "source": [
    "# Tutorial 2: Stance Detection on Tweets using NLP Methods\n",
    "\n",
    "## Introduction\n",
    "\n",
    "**Objective of the tutorial**: This tutorial will guide you through the process of stance detection on tweets using two main approaches: fine-tuning a BERT model and using large language models (LLMs).\n",
    "\n",
    "**Prerequisites**: Basic Python skills and familiarity with NLP concepts."
   ]
  },
  {
   "attachments": {},
   "cell_type": "markdown",
   "metadata": {},
   "source": [
    "\n",
    "## Understanding BERT\n",
    "\n",
    "In this section, we will briefly introduce BERT and its architecture.\n",
    "\n"
   ]
  },
  {
   "attachments": {},
   "cell_type": "markdown",
   "metadata": {},
   "source": [
    "### What is BERT and how it works\n",
    "\n",
    "_Brief explanation of BERT and its mechanism_"
   ]
  },
  {
   "attachments": {},
   "cell_type": "markdown",
   "metadata": {},
   "source": [
    "\n",
    "### Pretrained models and transfer learning\n",
    "\n",
    "_Discussion on pretrained models and transfer learning_\n"
   ]
  },
  {
   "attachments": {},
   "cell_type": "markdown",
   "metadata": {},
   "source": [
    "\n",
    "### BERT architecture and tokenization\n",
    "\n",
    "_Description of BERT architecture and tokenization process_\n"
   ]
  },
  {
   "attachments": {},
   "cell_type": "markdown",
   "metadata": {},
   "source": [
    "\n",
    "## Fine-tuning a BERT Model with HuggingFace\n",
    "\n",
    "Now, let's fine-tune a BERT model using the HuggingFace Transformers library.\n"
   ]
  },
  {
   "attachments": {},
   "cell_type": "markdown",
   "metadata": {},
   "source": [
    "\n",
    "### Installing HuggingFace Transformers library\n"
   ]
  },
  {
   "cell_type": "code",
   "execution_count": null,
   "metadata": {},
   "outputs": [
    {
     "ename": "",
     "evalue": "",
     "output_type": "error",
     "traceback": [
      "\u001b[1;31mRunning cells with '/Users/vimchiz/miniconda3/envs/gda/bin/python' requires ipykernel package.\n",
      "\u001b[1;31mRun the following command to install 'ipykernel' into the Python environment. \n",
      "\u001b[1;31mCommand: 'conda install -p /Users/vimchiz/miniconda3/envs/gda ipykernel --update-deps --force-reinstall'"
     ]
    }
   ],
   "source": [
    "# ```python\n",
    "# !pip install transformers\n",
    "# ```"
   ]
  },
  {
   "attachments": {},
   "cell_type": "markdown",
   "metadata": {},
   "source": [
    "# Introduction\n",
    "\n",
    "Objective of the tutorial: This tutorial will guide you through the process of stance detection on tweets using two main approaches: fine-tuning a BERT model and using large language models (LLMs).\n",
    "\n",
    "Prerequisites: Basic Python skills and familiarity with NLP concepts."
   ]
  },
  {
   "cell_type": "markdown",
   "metadata": {},
   "source": []
  }
 ],
 "metadata": {
  "kernelspec": {
   "display_name": "Python 3",
   "language": "python",
   "name": "python3"
  },
  "language_info": {
   "name": "python",
   "version": "3.10.6 | packaged by conda-forge | (main, Aug 22 2022, 20:41:22) [Clang 13.0.1 ]"
  },
  "orig_nbformat": 4,
  "vscode": {
   "interpreter": {
    "hash": "435414adc4ce3b84c9fac3213024ef17f383b5213bd6fd3489d95b5052ab39f2"
   }
  }
 },
 "nbformat": 4,
 "nbformat_minor": 2
}
